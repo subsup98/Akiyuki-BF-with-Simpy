{
  "nbformat": 4,
  "nbformat_minor": 0,
  "metadata": {
    "colab": {
      "name": "Akiyuki BF with Simpy",
      "provenance": [],
      "collapsed_sections": [],
      "authorship_tag": "ABX9TyPMBWEHQ2pVvWz9QO0me/Mn",
      "include_colab_link": true
    },
    "kernelspec": {
      "name": "python3",
      "display_name": "Python 3"
    },
    "language_info": {
      "name": "python"
    }
  },
  "cells": [
    {
      "cell_type": "markdown",
      "metadata": {
        "id": "view-in-github",
        "colab_type": "text"
      },
      "source": [
        "<a href=\"https://colab.research.google.com/github/subsup98/Akiyuki-BF-with-Simpy/blob/main/Akiyuki_BF_with_Simpy.ipynb\" target=\"_parent\"><img src=\"https://colab.research.google.com/assets/colab-badge.svg\" alt=\"Open In Colab\"/></a>"
      ]
    },
    {
      "cell_type": "markdown",
      "source": [
        "Code: Akiyuki Ball Factory \n",
        "\n",
        "Date: 2022/03/05 (version 1.0)\n",
        "\n",
        "Comments: YongSub Lim(dydtjqdla98@kyonggi.ac.kr) from Smart MOM&DAD Lab\n",
        "\n",
        "Description: Python의 Simpy를 이용한 Akiyuki Ball Factory DES(Discrete Event Simulation)"
      ],
      "metadata": {
        "id": "U4BvIn_vovnr"
      }
    },
    {
      "cell_type": "markdown",
      "source": [
        ""
      ],
      "metadata": {
        "id": "KPzGvrsInr-Z"
      }
    },
    {
      "cell_type": "code",
      "execution_count": null,
      "metadata": {
        "id": "sNg3EoAenon-",
        "colab": {
          "base_uri": "https://localhost:8080/"
        },
        "outputId": "c7efe51d-8681-4bf4-b48e-e321d926a0e8"
      },
      "outputs": [
        {
          "output_type": "stream",
          "name": "stdout",
          "text": [
            "Collecting simpy\n",
            "  Downloading simpy-4.0.1-py2.py3-none-any.whl (29 kB)\n",
            "Installing collected packages: simpy\n",
            "Successfully installed simpy-4.0.1\n"
          ]
        }
      ],
      "source": [
        "!pip install simpy"
      ]
    },
    {
      "cell_type": "code",
      "source": [
        "import simpy\n",
        "import numpy as np\n",
        "ball = 30 #공\n",
        "bucket = 10 #바구니\n",
        "M1time = 5 #시간들\n",
        "M12time = 2\n",
        "M2time = 5\n",
        "M23time =2\n",
        "M3time = 5\n",
        "M4time = 5\n",
        "M5time = 5\n",
        "M6time = 5\n",
        "M7time = 5\n",
        "M34time =3\n",
        "M45time =3\n",
        "M56time =4\n",
        "M67time =3"
      ],
      "metadata": {
        "id": "qBR4rijSqZy1"
      },
      "execution_count": null,
      "outputs": []
    },
    {
      "cell_type": "code",
      "source": [
        "#MODULE 1 \n",
        "#모듈1은 공이 들어오고 올라가는 현상\n",
        "def module1(plg,store):\n",
        "  i= 1\n",
        "  for j in range(ball):\n",
        "    ballnum= \"ball{:3d}\".format(i)\n",
        "    print(\"{} in Module1 at {:5.1f}\".format(ballnum,plg.now))\n",
        "    yield plg.timeout(M1time)\n",
        "    yield Tom2.put(ballnum)\n",
        "    print(\"{} left Module1 at {:5.1f}\".format(ballnum,plg.now))   \n",
        "    \n",
        "    i = i +1\n",
        "  \n",
        "''' \n",
        "def module1to2(plg,store):\n",
        "  for j in range(ball):\n",
        "   yield plg.timeout(M12time)\n",
        "   ballnum= yield Tom2.get()\n",
        "   print(\"{} in Moudele2 at {:5.1f}\".format(ballnum,plg.now))\n",
        "'''"
      ],
      "metadata": {
        "id": "G-qcpE5hFbZK",
        "colab": {
          "base_uri": "https://localhost:8080/",
          "height": 54
        },
        "outputId": "f27dffdb-a3d3-42b6-dfe7-257eeaa6e8d4"
      },
      "execution_count": null,
      "outputs": [
        {
          "output_type": "execute_result",
          "data": {
            "text/plain": [
              "' \\ndef module1to2(plg,store):\\n  for j in range(ball):\\n   yield plg.timeout(M12time)\\n   ballnum= yield Tom2.get()\\n   print(\"{} in Moudele2 at {:5.1f}\".format(ballnum,plg.now))\\n'"
            ],
            "application/vnd.google.colaboratory.intrinsic+json": {
              "type": "string"
            }
          },
          "metadata": {},
          "execution_count": 3
        }
      ]
    },
    {
      "cell_type": "code",
      "source": [
        "#MODULE 2\n",
        "def module2(plg,store):\n",
        "     contball = len(Tom2.items)\n",
        "     i =1\n",
        "     for j in range(ball):\n",
        "      ballnum2=(\"ball{:3d}\".format(i))\n",
        "      yield Tom3.put(ballnum2)\n",
        "      i= i+1\n",
        "      if contball%2 == 0:\n",
        "  \n",
        "       ball1= yield Tom2.get() \n",
        "       ball2= yield Tom2.get()\n",
        "       #yield plg.timeout(M1time)\n",
        "       #yield plg.timeout(M12time)\n",
        "       print(\"{} and {} in Module2 at {:5.1f}\".format(ball1,ball2,plg.now))     \n",
        "    \n",
        "      \n",
        "       \n",
        "'''\n",
        "def module2bucket(plg,Tobuc):\n",
        "    for j in range(ball):\n",
        "     contball= len(Tobuc.items)\n",
        "     ball1= yield Tobuc.get()\n",
        "     ball2= yield Tobuc.get()\n",
        "     if j%2==0 and contball%2==0:\n",
        "       yield plg.timeout(M2time)\n",
        "       print(\"{} and {} left Module2 at {:5.1f}\".format(ball1,ball2,plg.now))   \n",
        "'''   \n"
      ],
      "metadata": {
        "id": "T2bIh-3aGuqf",
        "colab": {
          "base_uri": "https://localhost:8080/",
          "height": 54
        },
        "outputId": "557ea409-0614-427e-99bf-2303be3e5e8e"
      },
      "execution_count": null,
      "outputs": [
        {
          "output_type": "execute_result",
          "data": {
            "text/plain": [
              "'\\ndef module2bucket(plg,Tobuc):\\n    for j in range(ball):\\n     contball= len(Tobuc.items)\\n     ball1= yield Tobuc.get()\\n     ball2= yield Tobuc.get()\\n     if j%2==0 and contball%2==0:\\n       yield plg.timeout(M2time)\\n       print(\"{} and {} left Module2 at {:5.1f}\".format(ball1,ball2,plg.now))   \\n'"
            ],
            "application/vnd.google.colaboratory.intrinsic+json": {
              "type": "string"
            }
          },
          "metadata": {},
          "execution_count": 4
        }
      ]
    },
    {
      "cell_type": "markdown",
      "source": [
        ""
      ],
      "metadata": {
        "id": "xMIKq2pQ1nGg"
      }
    },
    {
      "cell_type": "code",
      "source": [
        "#MODULE 3\n",
        "def module3(plg,store): #이제 바구니에 공이 2개씩있다. 2개를 받아서..\n",
        "  \n",
        "  i = 1\n",
        "  contball3 = len(Tom3.items)\n",
        "  for j in range(bucket):\n",
        "    bucketnum = \"bucket {:3d}\".format(i)\n",
        "    ball1 =yield Tom3.get()\n",
        "    ball2 =yield Tom3.get()\n",
        "    yield plg.timeout(M2time)\n",
        "    print(\"{} and {} in {} at {:5.1f}\".format(ball1,ball2,bucketnum,plg.now))\n",
        "    yield Tom4.put(bucketnum)\n",
        "    i = i+1"
      ],
      "metadata": {
        "id": "_oftPtL2Ronq"
      },
      "execution_count": null,
      "outputs": []
    },
    {
      "cell_type": "code",
      "source": [
        "#MODULE 4\n",
        "def module4(plg,store):\n",
        "  for i in range(bucket):\n",
        "    bucketnum = yield Tom4.get()\n",
        "    yield plg.timeout(M3time)\n",
        "    print(\"{} in Module4  at {:5.1f}\".format(bucketnum,plg.now))\n",
        "    yield Tom5.put(bucketnum)\n",
        "    i = i+1"
      ],
      "metadata": {
        "id": "HGhsTjEoRqpZ"
      },
      "execution_count": null,
      "outputs": []
    },
    {
      "cell_type": "code",
      "source": [
        "#MODULE 5\n",
        "def module5(plg,store):\n",
        "  for i in range(bucket):\n",
        "    bucketnum = yield Tom5.get()\n",
        "    yield plg.timeout(M4time)\n",
        "    print(\"{} in Module5  at {:5.1f}\".format(bucketnum,plg.now))\n",
        "    yield Tom6.put(bucketnum)\n",
        "    i = i+1"
      ],
      "metadata": {
        "id": "d9rEQliVRrSK"
      },
      "execution_count": null,
      "outputs": []
    },
    {
      "cell_type": "code",
      "source": [
        "#MODULE 6\n",
        "\n",
        "def module6(plg,store):\n",
        "  for i in range(bucket):\n",
        "    bucketnum = yield Tom6.get()\n",
        "    yield plg.timeout(M5time)\n",
        "    print(\"{} in Module6  at {:5.1f}\".format(bucketnum,plg.now))\n",
        "    yield Tom7.put(bucketnum)\n",
        "    i = i+1"
      ],
      "metadata": {
        "id": "vcxbeGy04wiW"
      },
      "execution_count": null,
      "outputs": []
    },
    {
      "cell_type": "markdown",
      "source": [
        ""
      ],
      "metadata": {
        "id": "ApLhSSpB9fdV"
      }
    },
    {
      "cell_type": "code",
      "source": [
        "#MODULE 7\n",
        "def module7(plg,store):\n",
        "  for i in range(bucket):\n",
        "    bucketnum = yield Tom7.get()\n",
        "    yield plg.timeout(M6time)\n",
        "    print(\"{} in Module7  at {:5.1f}\".format(bucketnum,plg.now))\n",
        "    bucketnum2 = \"bucket {:3d}\".format(i)\n",
        "    yield plg.timeout(M7time)\n",
        "    print(\"{} out Moudule 7 at {:5.1f}\".format(bucketnum2,plg.now))\n",
        "    i = i+1"
      ],
      "metadata": {
        "id": "APygTkra4wy5"
      },
      "execution_count": null,
      "outputs": []
    },
    {
      "cell_type": "code",
      "source": [
        "plg = simpy.Environment()\n",
        "store = simpy.Store(plg)\n",
        "Tom2 = simpy.Store(plg)\n",
        "Tom3 = simpy.Store(plg)\n",
        "Tom4 = simpy.Store(plg)\n",
        "Tom5 = simpy.Store(plg)\n",
        "Tom6 = simpy.Store(plg)\n",
        "Tom7 = simpy.Store(plg)\n",
        "Tobuc = simpy.Store(plg)\n",
        "plg.process(module1(plg,store))\n",
        "plg.process(module2(plg,Tom2))\n",
        "plg.process(module3(plg,Tom3))\n",
        "plg.process(module4(plg,Tom4))\n",
        "plg.process(module5(plg,Tom5))\n",
        "plg.process(module6(plg,Tom6))\n",
        "plg.process(module7(plg,Tom7))\n",
        "#plg.process(module2bucket(plg,Tobuc))\n",
        "plg.run(until= 120)"
      ],
      "metadata": {
        "colab": {
          "base_uri": "https://localhost:8080/"
        },
        "id": "nKq0CLeRSlEi",
        "outputId": "c4105cdd-2319-44ad-e817-5a160aa284c1"
      },
      "execution_count": null,
      "outputs": [
        {
          "output_type": "stream",
          "name": "stdout",
          "text": [
            "ball  1 in Module1 at   0.0\n",
            "ball  1 left Module1 at   5.0\n",
            "ball  2 in Module1 at   5.0\n",
            "ball  2 left Module1 at  10.0\n",
            "ball  3 in Module1 at  10.0\n",
            "ball  1 and ball  2 in Module2 at  10.0\n",
            "ball  1 and ball  2 in bucket   1 at  15.0\n",
            "ball  3 left Module1 at  15.0\n",
            "ball  4 in Module1 at  15.0\n",
            "ball  4 left Module1 at  20.0\n",
            "ball  5 in Module1 at  20.0\n",
            "ball  3 and ball  4 in Module2 at  20.0\n",
            "bucket   1 in Module4  at  25.0\n",
            "ball  5 left Module1 at  25.0\n",
            "ball  6 in Module1 at  25.0\n",
            "bucket   1 in Module5  at  30.0\n",
            "ball  6 left Module1 at  30.0\n",
            "ball  7 in Module1 at  30.0\n",
            "ball  5 and ball  6 in Module2 at  30.0\n",
            "bucket   1 in Module6  at  35.0\n",
            "ball  3 and ball  4 in bucket   2 at  35.0\n",
            "ball  7 left Module1 at  35.0\n",
            "ball  8 in Module1 at  35.0\n",
            "bucket   1 in Module7  at  40.0\n",
            "ball  8 left Module1 at  40.0\n",
            "ball  9 in Module1 at  40.0\n",
            "ball  7 and ball  8 in Module2 at  40.0\n",
            "bucket   0 out Moudule 7 at  45.0\n",
            "bucket   2 in Module4  at  45.0\n",
            "ball  9 left Module1 at  45.0\n",
            "ball 10 in Module1 at  45.0\n",
            "bucket   2 in Module5  at  50.0\n",
            "ball 10 left Module1 at  50.0\n",
            "ball 11 in Module1 at  50.0\n",
            "ball  9 and ball 10 in Module2 at  50.0\n",
            "bucket   2 in Module6  at  55.0\n",
            "ball  5 and ball  6 in bucket   3 at  55.0\n",
            "ball 11 left Module1 at  55.0\n",
            "ball 12 in Module1 at  55.0\n",
            "bucket   2 in Module7  at  60.0\n",
            "ball 12 left Module1 at  60.0\n",
            "ball 13 in Module1 at  60.0\n",
            "ball 11 and ball 12 in Module2 at  60.0\n",
            "bucket   1 out Moudule 7 at  65.0\n",
            "bucket   3 in Module4  at  65.0\n",
            "ball 13 left Module1 at  65.0\n",
            "ball 14 in Module1 at  65.0\n",
            "bucket   3 in Module5  at  70.0\n",
            "ball 14 left Module1 at  70.0\n",
            "ball 15 in Module1 at  70.0\n",
            "ball 13 and ball 14 in Module2 at  70.0\n",
            "bucket   3 in Module6  at  75.0\n",
            "ball  7 and ball  8 in bucket   4 at  75.0\n",
            "ball 15 left Module1 at  75.0\n",
            "ball 16 in Module1 at  75.0\n",
            "bucket   3 in Module7  at  80.0\n",
            "ball 16 left Module1 at  80.0\n",
            "ball 17 in Module1 at  80.0\n",
            "ball 15 and ball 16 in Module2 at  80.0\n",
            "bucket   2 out Moudule 7 at  85.0\n",
            "bucket   4 in Module4  at  85.0\n",
            "ball 17 left Module1 at  85.0\n",
            "ball 18 in Module1 at  85.0\n",
            "bucket   4 in Module5  at  90.0\n",
            "ball 18 left Module1 at  90.0\n",
            "ball 19 in Module1 at  90.0\n",
            "ball 17 and ball 18 in Module2 at  90.0\n",
            "bucket   4 in Module6  at  95.0\n",
            "ball  9 and ball 10 in bucket   5 at  95.0\n",
            "ball 19 left Module1 at  95.0\n",
            "ball 20 in Module1 at  95.0\n",
            "bucket   4 in Module7  at 100.0\n",
            "ball 20 left Module1 at 100.0\n",
            "ball 21 in Module1 at 100.0\n",
            "ball 19 and ball 20 in Module2 at 100.0\n",
            "bucket   3 out Moudule 7 at 105.0\n",
            "bucket   5 in Module4  at 105.0\n",
            "ball 21 left Module1 at 105.0\n",
            "ball 22 in Module1 at 105.0\n",
            "bucket   5 in Module5  at 110.0\n",
            "ball 22 left Module1 at 110.0\n",
            "ball 23 in Module1 at 110.0\n",
            "ball 21 and ball 22 in Module2 at 110.0\n",
            "bucket   5 in Module6  at 115.0\n",
            "ball 11 and ball 12 in bucket   6 at 115.0\n",
            "ball 23 left Module1 at 115.0\n",
            "ball 24 in Module1 at 115.0\n"
          ]
        }
      ]
    }
  ]
}